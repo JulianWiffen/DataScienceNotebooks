{
 "cells": [
  {
   "cell_type": "code",
   "execution_count": null,
   "metadata": {},
   "outputs": [],
   "source": [
    "import numpy as np\n",
    "import math\n",
    "import scipy.spatial\n",
    "import matplotlib.pyplot as plt\n",
    "%matplotlib notebook"
   ]
  },
  {
   "cell_type": "code",
   "execution_count": null,
   "metadata": {},
   "outputs": [],
   "source": [
    "X = []\n",
    "Y = []\n",
    "Z = []\n",
    "for d in range(1,101):\n",
    "    samples = 1000\n",
    "    totalDistance = 0.0\n",
    "    totalNormalDistance = 0.0\n",
    "    cosineDistance = 0.0\n",
    "    for i in range(samples):\n",
    "        x = np.random.random_sample(d)\n",
    "        y = np.random.random_sample(d)\n",
    "\n",
    "        totalDistance += np.linalg.norm(x-y)\n",
    "        cosineDistance += scipy.spatial.distance.cosine(x,y)\n",
    "    #print(\"Num dimensions(\",d,\"): \", totalDistance/samples)\n",
    "    X.append(d)\n",
    "    Y.append(totalDistance/samples)\n",
    "    Z.append(cosineDistance/samples)\n"
   ]
  },
  {
   "cell_type": "code",
   "execution_count": null,
   "metadata": {
    "scrolled": true
   },
   "outputs": [],
   "source": [
    "plt.plot(X,Y, label='Euclidian')\n",
    "plt.plot(X,Z, 'r', label='Cosine')\n",
    "plt.xlabel(\"Dimension Size\")\n",
    "plt.ylabel(\"Distance\")\n",
    "plt.title(\"Curse of Dimensionality\")\n",
    "plt.legend()\n",
    "plt.show()\n"
   ]
  },
  {
   "cell_type": "code",
   "execution_count": null,
   "metadata": {},
   "outputs": [],
   "source": [
    "X = []\n",
    "Y = []\n",
    "for d in range(1,10001,100):\n",
    "    samples = 1000\n",
    "    totalDistance = 0.0\n",
    "    for i in range(samples):\n",
    "        x = np.random.random_sample(d)\n",
    "        y = np.random.random_sample(d)\n",
    "        totalDistance += np.linalg.norm(x-y)\n",
    "    #print(\"Num dimensions(\",d,\"): \", totalDistance/samples)\n",
    "    X.append(d)\n",
    "    Y.append(totalDistance/samples)"
   ]
  },
  {
   "cell_type": "code",
   "execution_count": null,
   "metadata": {},
   "outputs": [],
   "source": [
    "plt.plot(X,Y)\n",
    "plt.xlabel(\"Dimension Size\")\n",
    "plt.ylabel(\"Euclidian Distance\")\n",
    "plt.title(\"Curse of Dimensionality\")\n",
    "plt.show()"
   ]
  },
  {
   "cell_type": "code",
   "execution_count": null,
   "metadata": {},
   "outputs": [],
   "source": [
    "X = []\n",
    "Y = []\n",
    "for d in range(1,1000001):\n",
    "    X.append(d)\n",
    "    Y.append(math.sqrt(d/6))   #https://math.stackexchange.com/questions/2985662/average-distance-between-points-on-a-hypercube"
   ]
  },
  {
   "cell_type": "code",
   "execution_count": null,
   "metadata": {},
   "outputs": [],
   "source": [
    "plt.plot(X,Y)\n",
    "plt.xlabel(\"Dimension Size\")\n",
    "plt.ylabel(\"Euclidian Distance\")\n",
    "plt.title(\"Curse of Dimensionality\")\n",
    "plt.show()"
   ]
  },
  {
   "cell_type": "code",
   "execution_count": null,
   "metadata": {},
   "outputs": [],
   "source": []
  }
 ],
 "metadata": {
  "kernelspec": {
   "display_name": "Python 3",
   "language": "python",
   "name": "python3"
  },
  "language_info": {
   "codemirror_mode": {
    "name": "ipython",
    "version": 3
   },
   "file_extension": ".py",
   "mimetype": "text/x-python",
   "name": "python",
   "nbconvert_exporter": "python",
   "pygments_lexer": "ipython3",
   "version": "3.6.7"
  }
 },
 "nbformat": 4,
 "nbformat_minor": 2
}
